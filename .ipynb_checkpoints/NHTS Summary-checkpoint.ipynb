{
 "cells": [
  {
   "cell_type": "code",
   "execution_count": 1,
   "metadata": {
    "scrolled": true
   },
   "outputs": [],
   "source": [
    "import pandas as pd\n",
    "import numpy as np\n",
    "#import matplotlib.pyplot as plt\n",
    "#import os\n"
   ]
  },
  {
   "cell_type": "code",
   "execution_count": 2,
   "metadata": {},
   "outputs": [],
   "source": [
    "df = pd.read_csv(\"trippub.csv\")\n",
    "df = df[['HOUSEID','PERSONID','HHSTATE','TRPTRANS','TRPMILES','WTTRDFIN','TRAVDAY','TRIPPURP','HH_CBSA']]\n",
    "\n",
    "day = { 1 : 'Sunday', 2: 'Weekday', 3: 'Weekday', 4: 'Weekday', 5: \"Weekday\", 6: \"Weekday\", 7: \"Saturday\"}\n",
    "day = pd.Series(day).to_frame('Day')\n",
    "day = day.reset_index().rename(columns = {'index' : 'TRAVDAY'})\n",
    "\n",
    "\n",
    "df = pd.merge(df, day, on = 'TRAVDAY')\n",
    "\n",
    "df['TripDist'] = df['TRPMILES'] * df['WTTRDFIN']\n",
    "\n",
    "df = df.loc[(df['TRIPPURP'] != '-9'),]\n",
    "\n",
    "national_bike = df.loc[(df[\"TRPTRANS\"] == 2),]\n",
    "national_walk = df.loc[df[\"TRPTRANS\"] == 1,]\n",
    "weights_bike = national_bike['WTTRDFIN'].sum()\n"
   ]
  },
  {
   "cell_type": "code",
   "execution_count": 3,
   "metadata": {},
   "outputs": [
    {
     "data": {
      "text/html": [
       "<div>\n",
       "<style scoped>\n",
       "    .dataframe tbody tr th:only-of-type {\n",
       "        vertical-align: middle;\n",
       "    }\n",
       "\n",
       "    .dataframe tbody tr th {\n",
       "        vertical-align: top;\n",
       "    }\n",
       "\n",
       "    .dataframe thead th {\n",
       "        text-align: right;\n",
       "    }\n",
       "</style>\n",
       "<table border=\"1\" class=\"dataframe\">\n",
       "  <thead>\n",
       "    <tr style=\"text-align: right;\">\n",
       "      <th></th>\n",
       "      <th>HOUSEID</th>\n",
       "      <th>PERSONID</th>\n",
       "      <th>HHSTATE</th>\n",
       "      <th>TRPTRANS</th>\n",
       "      <th>TRPMILES</th>\n",
       "      <th>WTTRDFIN</th>\n",
       "      <th>TRAVDAY</th>\n",
       "      <th>TRIPPURP</th>\n",
       "      <th>HH_CBSA</th>\n",
       "      <th>Day</th>\n",
       "      <th>TripDist</th>\n",
       "    </tr>\n",
       "  </thead>\n",
       "  <tbody>\n",
       "    <tr>\n",
       "      <th>0</th>\n",
       "      <td>30000007</td>\n",
       "      <td>1</td>\n",
       "      <td>NC</td>\n",
       "      <td>3</td>\n",
       "      <td>5.244</td>\n",
       "      <td>75441.905796</td>\n",
       "      <td>2</td>\n",
       "      <td>HBO</td>\n",
       "      <td>XXXXX</td>\n",
       "      <td>Weekday</td>\n",
       "      <td>3.956174e+05</td>\n",
       "    </tr>\n",
       "    <tr>\n",
       "      <th>1</th>\n",
       "      <td>30000007</td>\n",
       "      <td>1</td>\n",
       "      <td>NC</td>\n",
       "      <td>3</td>\n",
       "      <td>5.149</td>\n",
       "      <td>75441.905796</td>\n",
       "      <td>2</td>\n",
       "      <td>HBO</td>\n",
       "      <td>XXXXX</td>\n",
       "      <td>Weekday</td>\n",
       "      <td>3.884504e+05</td>\n",
       "    </tr>\n",
       "    <tr>\n",
       "      <th>2</th>\n",
       "      <td>30000007</td>\n",
       "      <td>2</td>\n",
       "      <td>NC</td>\n",
       "      <td>6</td>\n",
       "      <td>84.004</td>\n",
       "      <td>71932.645806</td>\n",
       "      <td>2</td>\n",
       "      <td>HBW</td>\n",
       "      <td>XXXXX</td>\n",
       "      <td>Weekday</td>\n",
       "      <td>6.042630e+06</td>\n",
       "    </tr>\n",
       "    <tr>\n",
       "      <th>3</th>\n",
       "      <td>30000007</td>\n",
       "      <td>2</td>\n",
       "      <td>NC</td>\n",
       "      <td>6</td>\n",
       "      <td>81.628</td>\n",
       "      <td>71932.645806</td>\n",
       "      <td>2</td>\n",
       "      <td>HBW</td>\n",
       "      <td>XXXXX</td>\n",
       "      <td>Weekday</td>\n",
       "      <td>5.871718e+06</td>\n",
       "    </tr>\n",
       "    <tr>\n",
       "      <th>4</th>\n",
       "      <td>30000007</td>\n",
       "      <td>3</td>\n",
       "      <td>NC</td>\n",
       "      <td>3</td>\n",
       "      <td>2.250</td>\n",
       "      <td>80122.686739</td>\n",
       "      <td>2</td>\n",
       "      <td>HBO</td>\n",
       "      <td>XXXXX</td>\n",
       "      <td>Weekday</td>\n",
       "      <td>1.802760e+05</td>\n",
       "    </tr>\n",
       "  </tbody>\n",
       "</table>\n",
       "</div>"
      ],
      "text/plain": [
       "    HOUSEID  PERSONID HHSTATE  TRPTRANS  TRPMILES      WTTRDFIN  TRAVDAY  \\\n",
       "0  30000007         1      NC         3     5.244  75441.905796        2   \n",
       "1  30000007         1      NC         3     5.149  75441.905796        2   \n",
       "2  30000007         2      NC         6    84.004  71932.645806        2   \n",
       "3  30000007         2      NC         6    81.628  71932.645806        2   \n",
       "4  30000007         3      NC         3     2.250  80122.686739        2   \n",
       "\n",
       "  TRIPPURP HH_CBSA      Day      TripDist  \n",
       "0      HBO   XXXXX  Weekday  3.956174e+05  \n",
       "1      HBO   XXXXX  Weekday  3.884504e+05  \n",
       "2      HBW   XXXXX  Weekday  6.042630e+06  \n",
       "3      HBW   XXXXX  Weekday  5.871718e+06  \n",
       "4      HBO   XXXXX  Weekday  1.802760e+05  "
      ]
     },
     "execution_count": 3,
     "metadata": {},
     "output_type": "execute_result"
    }
   ],
   "source": [
    "df.head()"
   ]
  },
  {
   "cell_type": "code",
   "execution_count": 4,
   "metadata": {},
   "outputs": [
    {
     "name": "stderr",
     "output_type": "stream",
     "text": [
      "C:\\Users\\vyadav\\AppData\\Local\\Continuum\\anaconda3\\envs\\vy\\lib\\site-packages\\ipykernel_launcher.py:3: FutureWarning: Indexing with multiple keys (implicitly converted to a tuple of keys) will be deprecated, use a list instead.\n",
      "  This is separate from the ipykernel package so we can avoid doing imports until\n"
     ]
    },
    {
     "data": {
      "text/html": [
       "<div>\n",
       "<style scoped>\n",
       "    .dataframe tbody tr th:only-of-type {\n",
       "        vertical-align: middle;\n",
       "    }\n",
       "\n",
       "    .dataframe tbody tr th {\n",
       "        vertical-align: top;\n",
       "    }\n",
       "\n",
       "    .dataframe thead th {\n",
       "        text-align: right;\n",
       "    }\n",
       "</style>\n",
       "<table border=\"1\" class=\"dataframe\">\n",
       "  <thead>\n",
       "    <tr style=\"text-align: right;\">\n",
       "      <th></th>\n",
       "      <th>TripDist</th>\n",
       "      <th>WTTRDFIN</th>\n",
       "      <th>AvgDist</th>\n",
       "    </tr>\n",
       "    <tr>\n",
       "      <th>Day</th>\n",
       "      <th></th>\n",
       "      <th></th>\n",
       "      <th></th>\n",
       "    </tr>\n",
       "  </thead>\n",
       "  <tbody>\n",
       "    <tr>\n",
       "      <th>Saturday</th>\n",
       "      <td>1.789250e+09</td>\n",
       "      <td>5.486847e+08</td>\n",
       "      <td>3.260980</td>\n",
       "    </tr>\n",
       "    <tr>\n",
       "      <th>Sunday</th>\n",
       "      <td>1.062732e+09</td>\n",
       "      <td>4.141703e+08</td>\n",
       "      <td>2.565930</td>\n",
       "    </tr>\n",
       "    <tr>\n",
       "      <th>Weekday</th>\n",
       "      <td>5.619188e+09</td>\n",
       "      <td>2.611733e+09</td>\n",
       "      <td>2.151517</td>\n",
       "    </tr>\n",
       "  </tbody>\n",
       "</table>\n",
       "</div>"
      ],
      "text/plain": [
       "              TripDist      WTTRDFIN   AvgDist\n",
       "Day                                           \n",
       "Saturday  1.789250e+09  5.486847e+08  3.260980\n",
       "Sunday    1.062732e+09  4.141703e+08  2.565930\n",
       "Weekday   5.619188e+09  2.611733e+09  2.151517"
      ]
     },
     "execution_count": 4,
     "metadata": {},
     "output_type": "execute_result"
    }
   ],
   "source": [
    "# National Average Bike Trip Distance \n",
    "\n",
    "avg_dist_nat_bike = national_bike.groupby('Day')['TripDist','WTTRDFIN'].sum()\n",
    "avg_dist_nat_bike = pd.DataFrame(avg_dist_nat_bike)\n",
    "avg_dist_nat_bike['AvgDist'] = avg_dist_nat_bike['TripDist']/avg_dist_nat_bike['WTTRDFIN']\n",
    "avg_dist_nat_bike"
   ]
  },
  {
   "cell_type": "code",
   "execution_count": 5,
   "metadata": {},
   "outputs": [
    {
     "name": "stderr",
     "output_type": "stream",
     "text": [
      "C:\\Users\\vyadav\\AppData\\Local\\Continuum\\anaconda3\\envs\\vy\\lib\\site-packages\\ipykernel_launcher.py:3: FutureWarning: Indexing with multiple keys (implicitly converted to a tuple of keys) will be deprecated, use a list instead.\n",
      "  This is separate from the ipykernel package so we can avoid doing imports until\n"
     ]
    },
    {
     "data": {
      "text/html": [
       "<div>\n",
       "<style scoped>\n",
       "    .dataframe tbody tr th:only-of-type {\n",
       "        vertical-align: middle;\n",
       "    }\n",
       "\n",
       "    .dataframe tbody tr th {\n",
       "        vertical-align: top;\n",
       "    }\n",
       "\n",
       "    .dataframe thead th {\n",
       "        text-align: right;\n",
       "    }\n",
       "</style>\n",
       "<table border=\"1\" class=\"dataframe\">\n",
       "  <thead>\n",
       "    <tr style=\"text-align: right;\">\n",
       "      <th></th>\n",
       "      <th>TripDist</th>\n",
       "      <th>WTTRDFIN</th>\n",
       "      <th>AvgDist</th>\n",
       "    </tr>\n",
       "    <tr>\n",
       "      <th>Day</th>\n",
       "      <th></th>\n",
       "      <th></th>\n",
       "      <th></th>\n",
       "    </tr>\n",
       "  </thead>\n",
       "  <tbody>\n",
       "    <tr>\n",
       "      <th>Saturday</th>\n",
       "      <td>2.918245e+09</td>\n",
       "      <td>4.927085e+09</td>\n",
       "      <td>0.592286</td>\n",
       "    </tr>\n",
       "    <tr>\n",
       "      <th>Sunday</th>\n",
       "      <td>2.757003e+09</td>\n",
       "      <td>4.792190e+09</td>\n",
       "      <td>0.575312</td>\n",
       "    </tr>\n",
       "    <tr>\n",
       "      <th>Weekday</th>\n",
       "      <td>2.687546e+10</td>\n",
       "      <td>2.922753e+10</td>\n",
       "      <td>0.919525</td>\n",
       "    </tr>\n",
       "  </tbody>\n",
       "</table>\n",
       "</div>"
      ],
      "text/plain": [
       "              TripDist      WTTRDFIN   AvgDist\n",
       "Day                                           \n",
       "Saturday  2.918245e+09  4.927085e+09  0.592286\n",
       "Sunday    2.757003e+09  4.792190e+09  0.575312\n",
       "Weekday   2.687546e+10  2.922753e+10  0.919525"
      ]
     },
     "execution_count": 5,
     "metadata": {},
     "output_type": "execute_result"
    }
   ],
   "source": [
    "# National Average Walk Trip Distance \n",
    "\n",
    "avg_dist_nat_walk = national_walk.groupby('Day')['TripDist','WTTRDFIN'].sum()\n",
    "avg_dist_nat_walk = pd.DataFrame(avg_dist_nat_walk)\n",
    "avg_dist_nat_walk['AvgDist'] = avg_dist_nat_walk['TripDist']/avg_dist_nat_walk['WTTRDFIN']\n",
    "avg_dist_nat_walk"
   ]
  },
  {
   "cell_type": "code",
   "execution_count": 6,
   "metadata": {},
   "outputs": [
    {
     "name": "stderr",
     "output_type": "stream",
     "text": [
      "C:\\Users\\vyadav\\AppData\\Local\\Continuum\\anaconda3\\envs\\vy\\lib\\site-packages\\ipykernel_launcher.py:3: FutureWarning: Indexing with multiple keys (implicitly converted to a tuple of keys) will be deprecated, use a list instead.\n",
      "  This is separate from the ipykernel package so we can avoid doing imports until\n"
     ]
    },
    {
     "data": {
      "text/html": [
       "<div>\n",
       "<style scoped>\n",
       "    .dataframe tbody tr th:only-of-type {\n",
       "        vertical-align: middle;\n",
       "    }\n",
       "\n",
       "    .dataframe tbody tr th {\n",
       "        vertical-align: top;\n",
       "    }\n",
       "\n",
       "    .dataframe thead th {\n",
       "        text-align: right;\n",
       "    }\n",
       "</style>\n",
       "<table border=\"1\" class=\"dataframe\">\n",
       "  <thead>\n",
       "    <tr style=\"text-align: right;\">\n",
       "      <th>TRIPPURP</th>\n",
       "      <th>HBO</th>\n",
       "      <th>HBSHOP</th>\n",
       "      <th>HBSOCREC</th>\n",
       "      <th>HBW</th>\n",
       "      <th>NHB</th>\n",
       "    </tr>\n",
       "    <tr>\n",
       "      <th>Day</th>\n",
       "      <th></th>\n",
       "      <th></th>\n",
       "      <th></th>\n",
       "      <th></th>\n",
       "      <th></th>\n",
       "    </tr>\n",
       "  </thead>\n",
       "  <tbody>\n",
       "    <tr>\n",
       "      <th>Saturday</th>\n",
       "      <td>2.635886</td>\n",
       "      <td>1.199624</td>\n",
       "      <td>3.304172</td>\n",
       "      <td>1.991578</td>\n",
       "      <td>5.113414</td>\n",
       "    </tr>\n",
       "    <tr>\n",
       "      <th>Sunday</th>\n",
       "      <td>5.871699</td>\n",
       "      <td>0.997169</td>\n",
       "      <td>1.888641</td>\n",
       "      <td>2.924829</td>\n",
       "      <td>3.208333</td>\n",
       "    </tr>\n",
       "    <tr>\n",
       "      <th>Weekday</th>\n",
       "      <td>2.213762</td>\n",
       "      <td>1.683225</td>\n",
       "      <td>1.876046</td>\n",
       "      <td>2.794740</td>\n",
       "      <td>2.068974</td>\n",
       "    </tr>\n",
       "  </tbody>\n",
       "</table>\n",
       "</div>"
      ],
      "text/plain": [
       "TRIPPURP       HBO    HBSHOP  HBSOCREC       HBW       NHB\n",
       "Day                                                       \n",
       "Saturday  2.635886  1.199624  3.304172  1.991578  5.113414\n",
       "Sunday    5.871699  0.997169  1.888641  2.924829  3.208333\n",
       "Weekday   2.213762  1.683225  1.876046  2.794740  2.068974"
      ]
     },
     "execution_count": 6,
     "metadata": {},
     "output_type": "execute_result"
    }
   ],
   "source": [
    "# National Average Bike Trip Distance by Tour Purpose\n",
    "\n",
    "avg_dist_nat_bike = national_bike.groupby(['Day','TRIPPURP'])['TripDist','WTTRDFIN'].sum()\n",
    "avg_dist_nat_bike = pd.DataFrame(avg_dist_nat_bike)\n",
    "avg_dist_nat_bike.reset_index()\n",
    "\n",
    "avg_dist_nat_bike['AvgDist'] = avg_dist_nat_bike['TripDist']/avg_dist_nat_bike['WTTRDFIN']\n",
    "\n",
    "avg_dist_nat_bike.pivot_table(index = ['Day'], values = 'AvgDist', columns = 'TRIPPURP')"
   ]
  },
  {
   "cell_type": "code",
   "execution_count": 7,
   "metadata": {},
   "outputs": [
    {
     "name": "stderr",
     "output_type": "stream",
     "text": [
      "C:\\Users\\vyadav\\AppData\\Local\\Continuum\\anaconda3\\envs\\vy\\lib\\site-packages\\ipykernel_launcher.py:2: FutureWarning: Indexing with multiple keys (implicitly converted to a tuple of keys) will be deprecated, use a list instead.\n",
      "  \n"
     ]
    },
    {
     "data": {
      "text/html": [
       "<div>\n",
       "<style scoped>\n",
       "    .dataframe tbody tr th:only-of-type {\n",
       "        vertical-align: middle;\n",
       "    }\n",
       "\n",
       "    .dataframe tbody tr th {\n",
       "        vertical-align: top;\n",
       "    }\n",
       "\n",
       "    .dataframe thead th {\n",
       "        text-align: right;\n",
       "    }\n",
       "</style>\n",
       "<table border=\"1\" class=\"dataframe\">\n",
       "  <thead>\n",
       "    <tr style=\"text-align: right;\">\n",
       "      <th>TRIPPURP</th>\n",
       "      <th>HBO</th>\n",
       "      <th>HBSHOP</th>\n",
       "      <th>HBSOCREC</th>\n",
       "      <th>HBW</th>\n",
       "      <th>NHB</th>\n",
       "    </tr>\n",
       "    <tr>\n",
       "      <th>Day</th>\n",
       "      <th></th>\n",
       "      <th></th>\n",
       "      <th></th>\n",
       "      <th></th>\n",
       "      <th></th>\n",
       "    </tr>\n",
       "  </thead>\n",
       "  <tbody>\n",
       "    <tr>\n",
       "      <th>Saturday</th>\n",
       "      <td>0.817154</td>\n",
       "      <td>0.494160</td>\n",
       "      <td>0.563022</td>\n",
       "      <td>0.665986</td>\n",
       "      <td>0.513202</td>\n",
       "    </tr>\n",
       "    <tr>\n",
       "      <th>Sunday</th>\n",
       "      <td>0.901161</td>\n",
       "      <td>0.475336</td>\n",
       "      <td>0.415290</td>\n",
       "      <td>0.660000</td>\n",
       "      <td>0.530508</td>\n",
       "    </tr>\n",
       "    <tr>\n",
       "      <th>Weekday</th>\n",
       "      <td>0.885562</td>\n",
       "      <td>1.189265</td>\n",
       "      <td>0.658375</td>\n",
       "      <td>1.551666</td>\n",
       "      <td>0.894429</td>\n",
       "    </tr>\n",
       "  </tbody>\n",
       "</table>\n",
       "</div>"
      ],
      "text/plain": [
       "TRIPPURP       HBO    HBSHOP  HBSOCREC       HBW       NHB\n",
       "Day                                                       \n",
       "Saturday  0.817154  0.494160  0.563022  0.665986  0.513202\n",
       "Sunday    0.901161  0.475336  0.415290  0.660000  0.530508\n",
       "Weekday   0.885562  1.189265  0.658375  1.551666  0.894429"
      ]
     },
     "execution_count": 7,
     "metadata": {},
     "output_type": "execute_result"
    }
   ],
   "source": [
    "# National Average Walk Trip Distance \n",
    "avg_dist_nat_walk = national_walk.groupby(['Day','TRIPPURP'])['TripDist','WTTRDFIN'].mean()\n",
    "avg_dist_nat_walk = pd.DataFrame(avg_dist_nat_walk)\n",
    "avg_dist_nat_walk.reset_index()\n",
    "\n",
    "avg_dist_nat_walk['AvgDist'] = avg_dist_nat_walk['TripDist']/avg_dist_nat_walk['WTTRDFIN']\n",
    "\n",
    "avg_dist_nat_walk.pivot_table(index = ['Day'], values = 'AvgDist', columns = 'TRIPPURP')"
   ]
  },
  {
   "cell_type": "code",
   "execution_count": 8,
   "metadata": {},
   "outputs": [],
   "source": [
    "# FLORIDA"
   ]
  },
  {
   "cell_type": "code",
   "execution_count": 9,
   "metadata": {},
   "outputs": [],
   "source": [
    "fl_bike = df.loc[(df[\"TRPTRANS\"] == 2) & (df[\"HHSTATE\"] == \"FL\"),]\n",
    "fl_walk = df.loc[(df[\"TRPTRANS\"] == 1) & (df[\"HHSTATE\"] == \"FL\"),]"
   ]
  },
  {
   "cell_type": "code",
   "execution_count": 10,
   "metadata": {},
   "outputs": [
    {
     "data": {
      "text/plain": [
       "(116, 11)"
      ]
     },
     "execution_count": 10,
     "metadata": {},
     "output_type": "execute_result"
    }
   ],
   "source": [
    "fl_bike.shape\n"
   ]
  },
  {
   "cell_type": "code",
   "execution_count": 11,
   "metadata": {},
   "outputs": [
    {
     "data": {
      "text/plain": [
       "(812, 11)"
      ]
     },
     "execution_count": 11,
     "metadata": {},
     "output_type": "execute_result"
    }
   ],
   "source": [
    "fl_walk.shape"
   ]
  },
  {
   "cell_type": "code",
   "execution_count": 12,
   "metadata": {},
   "outputs": [
    {
     "name": "stderr",
     "output_type": "stream",
     "text": [
      "C:\\Users\\vyadav\\AppData\\Local\\Continuum\\anaconda3\\envs\\vy\\lib\\site-packages\\ipykernel_launcher.py:2: FutureWarning: Indexing with multiple keys (implicitly converted to a tuple of keys) will be deprecated, use a list instead.\n",
      "  \n"
     ]
    },
    {
     "data": {
      "text/html": [
       "<div>\n",
       "<style scoped>\n",
       "    .dataframe tbody tr th:only-of-type {\n",
       "        vertical-align: middle;\n",
       "    }\n",
       "\n",
       "    .dataframe tbody tr th {\n",
       "        vertical-align: top;\n",
       "    }\n",
       "\n",
       "    .dataframe thead th {\n",
       "        text-align: right;\n",
       "    }\n",
       "</style>\n",
       "<table border=\"1\" class=\"dataframe\">\n",
       "  <thead>\n",
       "    <tr style=\"text-align: right;\">\n",
       "      <th></th>\n",
       "      <th>TripDist</th>\n",
       "      <th>WTTRDFIN</th>\n",
       "      <th>AvgDist</th>\n",
       "    </tr>\n",
       "    <tr>\n",
       "      <th>Day</th>\n",
       "      <th></th>\n",
       "      <th></th>\n",
       "      <th></th>\n",
       "    </tr>\n",
       "  </thead>\n",
       "  <tbody>\n",
       "    <tr>\n",
       "      <th>Saturday</th>\n",
       "      <td>4.906882e+07</td>\n",
       "      <td>2.752865e+07</td>\n",
       "      <td>1.782464</td>\n",
       "    </tr>\n",
       "    <tr>\n",
       "      <th>Sunday</th>\n",
       "      <td>1.252354e+08</td>\n",
       "      <td>3.786933e+07</td>\n",
       "      <td>3.307041</td>\n",
       "    </tr>\n",
       "    <tr>\n",
       "      <th>Weekday</th>\n",
       "      <td>4.052103e+08</td>\n",
       "      <td>1.769850e+08</td>\n",
       "      <td>2.289517</td>\n",
       "    </tr>\n",
       "  </tbody>\n",
       "</table>\n",
       "</div>"
      ],
      "text/plain": [
       "              TripDist      WTTRDFIN   AvgDist\n",
       "Day                                           \n",
       "Saturday  4.906882e+07  2.752865e+07  1.782464\n",
       "Sunday    1.252354e+08  3.786933e+07  3.307041\n",
       "Weekday   4.052103e+08  1.769850e+08  2.289517"
      ]
     },
     "execution_count": 12,
     "metadata": {},
     "output_type": "execute_result"
    }
   ],
   "source": [
    "# Average Bike Trip Distance in Florida\n",
    "\n",
    "avg_dist_fl_bike = fl_bike.groupby('Day')['TripDist','WTTRDFIN'].sum()\n",
    "avg_dist_fl_bike = pd.DataFrame(avg_dist_fl_bike)\n",
    "\n",
    "avg_dist_fl_bike['AvgDist'] = avg_dist_fl_bike['TripDist']/avg_dist_fl_bike['WTTRDFIN']\n",
    "avg_dist_fl_bike"
   ]
  },
  {
   "cell_type": "code",
   "execution_count": 13,
   "metadata": {},
   "outputs": [
    {
     "name": "stderr",
     "output_type": "stream",
     "text": [
      "C:\\Users\\vyadav\\AppData\\Local\\Continuum\\anaconda3\\envs\\vy\\lib\\site-packages\\ipykernel_launcher.py:3: FutureWarning: Indexing with multiple keys (implicitly converted to a tuple of keys) will be deprecated, use a list instead.\n",
      "  This is separate from the ipykernel package so we can avoid doing imports until\n"
     ]
    },
    {
     "data": {
      "text/html": [
       "<div>\n",
       "<style scoped>\n",
       "    .dataframe tbody tr th:only-of-type {\n",
       "        vertical-align: middle;\n",
       "    }\n",
       "\n",
       "    .dataframe tbody tr th {\n",
       "        vertical-align: top;\n",
       "    }\n",
       "\n",
       "    .dataframe thead th {\n",
       "        text-align: right;\n",
       "    }\n",
       "</style>\n",
       "<table border=\"1\" class=\"dataframe\">\n",
       "  <thead>\n",
       "    <tr style=\"text-align: right;\">\n",
       "      <th></th>\n",
       "      <th>TripDist</th>\n",
       "      <th>WTTRDFIN</th>\n",
       "      <th>AvgDist</th>\n",
       "    </tr>\n",
       "    <tr>\n",
       "      <th>Day</th>\n",
       "      <th></th>\n",
       "      <th></th>\n",
       "      <th></th>\n",
       "    </tr>\n",
       "  </thead>\n",
       "  <tbody>\n",
       "    <tr>\n",
       "      <th>Saturday</th>\n",
       "      <td>1.038046e+08</td>\n",
       "      <td>1.989933e+08</td>\n",
       "      <td>0.521649</td>\n",
       "    </tr>\n",
       "    <tr>\n",
       "      <th>Sunday</th>\n",
       "      <td>1.333528e+08</td>\n",
       "      <td>2.905080e+08</td>\n",
       "      <td>0.459033</td>\n",
       "    </tr>\n",
       "    <tr>\n",
       "      <th>Weekday</th>\n",
       "      <td>2.423820e+09</td>\n",
       "      <td>1.185929e+09</td>\n",
       "      <td>2.043815</td>\n",
       "    </tr>\n",
       "  </tbody>\n",
       "</table>\n",
       "</div>"
      ],
      "text/plain": [
       "              TripDist      WTTRDFIN   AvgDist\n",
       "Day                                           \n",
       "Saturday  1.038046e+08  1.989933e+08  0.521649\n",
       "Sunday    1.333528e+08  2.905080e+08  0.459033\n",
       "Weekday   2.423820e+09  1.185929e+09  2.043815"
      ]
     },
     "execution_count": 13,
     "metadata": {},
     "output_type": "execute_result"
    }
   ],
   "source": [
    "#Average Walk Trip Distance in Florida\n",
    "\n",
    "avg_dist_fl_walk = fl_walk.groupby('Day')['TripDist','WTTRDFIN'].sum()\n",
    "avg_dist_fl_walk = pd.DataFrame(avg_dist_fl_walk)\n",
    "avg_dist_fl_walk\n",
    "\n",
    "avg_dist_fl_walk['AvgDist'] = avg_dist_fl_walk['TripDist']/avg_dist_fl_walk['WTTRDFIN']\n",
    "avg_dist_fl_walk"
   ]
  },
  {
   "cell_type": "code",
   "execution_count": 14,
   "metadata": {},
   "outputs": [
    {
     "name": "stderr",
     "output_type": "stream",
     "text": [
      "C:\\Users\\vyadav\\AppData\\Local\\Continuum\\anaconda3\\envs\\vy\\lib\\site-packages\\ipykernel_launcher.py:2: FutureWarning: Indexing with multiple keys (implicitly converted to a tuple of keys) will be deprecated, use a list instead.\n",
      "  \n"
     ]
    },
    {
     "data": {
      "text/html": [
       "<div>\n",
       "<style scoped>\n",
       "    .dataframe tbody tr th:only-of-type {\n",
       "        vertical-align: middle;\n",
       "    }\n",
       "\n",
       "    .dataframe tbody tr th {\n",
       "        vertical-align: top;\n",
       "    }\n",
       "\n",
       "    .dataframe thead th {\n",
       "        text-align: right;\n",
       "    }\n",
       "</style>\n",
       "<table border=\"1\" class=\"dataframe\">\n",
       "  <thead>\n",
       "    <tr style=\"text-align: right;\">\n",
       "      <th>TRIPPURP</th>\n",
       "      <th>HBO</th>\n",
       "      <th>HBSHOP</th>\n",
       "      <th>HBSOCREC</th>\n",
       "      <th>HBW</th>\n",
       "      <th>NHB</th>\n",
       "    </tr>\n",
       "    <tr>\n",
       "      <th>Day</th>\n",
       "      <th></th>\n",
       "      <th></th>\n",
       "      <th></th>\n",
       "      <th></th>\n",
       "      <th></th>\n",
       "    </tr>\n",
       "  </thead>\n",
       "  <tbody>\n",
       "    <tr>\n",
       "      <th>Saturday</th>\n",
       "      <td>2.299462</td>\n",
       "      <td>0.323000</td>\n",
       "      <td>1.660445</td>\n",
       "      <td>NaN</td>\n",
       "      <td>2.828000</td>\n",
       "    </tr>\n",
       "    <tr>\n",
       "      <th>Sunday</th>\n",
       "      <td>7.158275</td>\n",
       "      <td>0.636652</td>\n",
       "      <td>4.000844</td>\n",
       "      <td>6.359000</td>\n",
       "      <td>NaN</td>\n",
       "    </tr>\n",
       "    <tr>\n",
       "      <th>Weekday</th>\n",
       "      <td>1.916611</td>\n",
       "      <td>0.878860</td>\n",
       "      <td>1.868723</td>\n",
       "      <td>5.242045</td>\n",
       "      <td>1.449847</td>\n",
       "    </tr>\n",
       "  </tbody>\n",
       "</table>\n",
       "</div>"
      ],
      "text/plain": [
       "TRIPPURP       HBO    HBSHOP  HBSOCREC       HBW       NHB\n",
       "Day                                                       \n",
       "Saturday  2.299462  0.323000  1.660445       NaN  2.828000\n",
       "Sunday    7.158275  0.636652  4.000844  6.359000       NaN\n",
       "Weekday   1.916611  0.878860  1.868723  5.242045  1.449847"
      ]
     },
     "execution_count": 14,
     "metadata": {},
     "output_type": "execute_result"
    }
   ],
   "source": [
    "#Average Bike Trip Distance in Florida\n",
    "avg_dist_fl_bike = fl_bike.groupby(['Day','TRIPPURP'])['TripDist','WTTRDFIN'].sum()\n",
    "avg_dist_fl_bike = pd.DataFrame(avg_dist_fl_bike)\n",
    "avg_dist_fl_bike.reset_index()\n",
    "\n",
    "avg_dist_fl_bike['AvgDist'] = avg_dist_fl_bike['TripDist']/avg_dist_fl_bike['WTTRDFIN']\n",
    "\n",
    "avg_dist_fl_bike.pivot_table(index = ['Day'], values = 'AvgDist', columns = 'TRIPPURP')\n"
   ]
  },
  {
   "cell_type": "code",
   "execution_count": 15,
   "metadata": {},
   "outputs": [
    {
     "name": "stderr",
     "output_type": "stream",
     "text": [
      "C:\\Users\\vyadav\\AppData\\Local\\Continuum\\anaconda3\\envs\\vy\\lib\\site-packages\\ipykernel_launcher.py:2: FutureWarning: Indexing with multiple keys (implicitly converted to a tuple of keys) will be deprecated, use a list instead.\n",
      "  \n"
     ]
    },
    {
     "data": {
      "text/html": [
       "<div>\n",
       "<style scoped>\n",
       "    .dataframe tbody tr th:only-of-type {\n",
       "        vertical-align: middle;\n",
       "    }\n",
       "\n",
       "    .dataframe tbody tr th {\n",
       "        vertical-align: top;\n",
       "    }\n",
       "\n",
       "    .dataframe thead th {\n",
       "        text-align: right;\n",
       "    }\n",
       "</style>\n",
       "<table border=\"1\" class=\"dataframe\">\n",
       "  <thead>\n",
       "    <tr style=\"text-align: right;\">\n",
       "      <th>TRIPPURP</th>\n",
       "      <th>HBO</th>\n",
       "      <th>HBSHOP</th>\n",
       "      <th>HBSOCREC</th>\n",
       "      <th>HBW</th>\n",
       "      <th>NHB</th>\n",
       "    </tr>\n",
       "    <tr>\n",
       "      <th>Day</th>\n",
       "      <th></th>\n",
       "      <th></th>\n",
       "      <th></th>\n",
       "      <th></th>\n",
       "      <th></th>\n",
       "    </tr>\n",
       "  </thead>\n",
       "  <tbody>\n",
       "    <tr>\n",
       "      <th>Saturday</th>\n",
       "      <td>0.785272</td>\n",
       "      <td>0.604649</td>\n",
       "      <td>0.552377</td>\n",
       "      <td>0.236353</td>\n",
       "      <td>0.242131</td>\n",
       "    </tr>\n",
       "    <tr>\n",
       "      <th>Sunday</th>\n",
       "      <td>0.518640</td>\n",
       "      <td>0.315484</td>\n",
       "      <td>0.439120</td>\n",
       "      <td>0.258000</td>\n",
       "      <td>0.539781</td>\n",
       "    </tr>\n",
       "    <tr>\n",
       "      <th>Weekday</th>\n",
       "      <td>0.893879</td>\n",
       "      <td>5.220103</td>\n",
       "      <td>0.691502</td>\n",
       "      <td>26.116039</td>\n",
       "      <td>0.539827</td>\n",
       "    </tr>\n",
       "  </tbody>\n",
       "</table>\n",
       "</div>"
      ],
      "text/plain": [
       "TRIPPURP       HBO    HBSHOP  HBSOCREC        HBW       NHB\n",
       "Day                                                        \n",
       "Saturday  0.785272  0.604649  0.552377   0.236353  0.242131\n",
       "Sunday    0.518640  0.315484  0.439120   0.258000  0.539781\n",
       "Weekday   0.893879  5.220103  0.691502  26.116039  0.539827"
      ]
     },
     "execution_count": 15,
     "metadata": {},
     "output_type": "execute_result"
    }
   ],
   "source": [
    "# Florida - Average Walk Trip Distance \n",
    "avg_dist_fl_walk = fl_walk.groupby(['Day','TRIPPURP'])['TripDist','WTTRDFIN'].mean()\n",
    "avg_dist_fl_walk = pd.DataFrame(avg_dist_fl_walk)\n",
    "avg_dist_fl_walk.reset_index()\n",
    "\n",
    "avg_dist_fl_walk['AvgDist'] = avg_dist_fl_walk['TripDist']/avg_dist_fl_walk['WTTRDFIN']\n",
    "\n",
    "avg_dist_fl_walk.pivot_table(index = ['Day'], values = 'AvgDist', columns = 'TRIPPURP')"
   ]
  },
  {
   "cell_type": "code",
   "execution_count": 17,
   "metadata": {},
   "outputs": [],
   "source": [
    "fl_cbsa_bike = df.loc[(df[\"TRPTRANS\"] == 2) & (df[\"HH_CBSA\"] == '36740'),]\n",
    "fl_cbsa_walk = df.loc[(df[\"TRPTRANS\"] == 1) & (df[\"HH_CBSA\"] == '36740'),]"
   ]
  },
  {
   "cell_type": "code",
   "execution_count": 18,
   "metadata": {},
   "outputs": [
    {
     "data": {
      "text/plain": [
       "(16, 11)"
      ]
     },
     "execution_count": 18,
     "metadata": {},
     "output_type": "execute_result"
    }
   ],
   "source": [
    "fl_cbsa_bike.shape"
   ]
  },
  {
   "cell_type": "code",
   "execution_count": 19,
   "metadata": {},
   "outputs": [
    {
     "data": {
      "text/plain": [
       "(75, 11)"
      ]
     },
     "execution_count": 19,
     "metadata": {},
     "output_type": "execute_result"
    }
   ],
   "source": [
    "fl_cbsa_walk.shape"
   ]
  },
  {
   "cell_type": "code",
   "execution_count": 20,
   "metadata": {},
   "outputs": [],
   "source": [
    "########### CBSA ############"
   ]
  },
  {
   "cell_type": "code",
   "execution_count": 21,
   "metadata": {},
   "outputs": [
    {
     "name": "stderr",
     "output_type": "stream",
     "text": [
      "C:\\Users\\vyadav\\AppData\\Local\\Continuum\\anaconda3\\envs\\vy\\lib\\site-packages\\ipykernel_launcher.py:3: FutureWarning: Indexing with multiple keys (implicitly converted to a tuple of keys) will be deprecated, use a list instead.\n",
      "  This is separate from the ipykernel package so we can avoid doing imports until\n"
     ]
    },
    {
     "data": {
      "text/html": [
       "<div>\n",
       "<style scoped>\n",
       "    .dataframe tbody tr th:only-of-type {\n",
       "        vertical-align: middle;\n",
       "    }\n",
       "\n",
       "    .dataframe tbody tr th {\n",
       "        vertical-align: top;\n",
       "    }\n",
       "\n",
       "    .dataframe thead th {\n",
       "        text-align: right;\n",
       "    }\n",
       "</style>\n",
       "<table border=\"1\" class=\"dataframe\">\n",
       "  <thead>\n",
       "    <tr style=\"text-align: right;\">\n",
       "      <th></th>\n",
       "      <th>TripDist</th>\n",
       "      <th>WTTRDFIN</th>\n",
       "      <th>AvgDist</th>\n",
       "    </tr>\n",
       "    <tr>\n",
       "      <th>Day</th>\n",
       "      <th></th>\n",
       "      <th></th>\n",
       "      <th></th>\n",
       "    </tr>\n",
       "  </thead>\n",
       "  <tbody>\n",
       "    <tr>\n",
       "      <th>Weekday</th>\n",
       "      <td>2.748425e+07</td>\n",
       "      <td>4.538354e+07</td>\n",
       "      <td>0.6056</td>\n",
       "    </tr>\n",
       "  </tbody>\n",
       "</table>\n",
       "</div>"
      ],
      "text/plain": [
       "             TripDist      WTTRDFIN  AvgDist\n",
       "Day                                         \n",
       "Weekday  2.748425e+07  4.538354e+07   0.6056"
      ]
     },
     "execution_count": 21,
     "metadata": {},
     "output_type": "execute_result"
    }
   ],
   "source": [
    "# FL CBSA - Average Bike Trip Distance\n",
    "\n",
    "avg_dist_fl_bike = fl_cbsa_bike.groupby('Day')['TripDist','WTTRDFIN'].sum()\n",
    "avg_dist_fl_bike = pd.DataFrame(avg_dist_fl_bike)\n",
    "\n",
    "avg_dist_fl_bike['AvgDist'] = avg_dist_fl_bike['TripDist']/avg_dist_fl_bike['WTTRDFIN']\n",
    "avg_dist_fl_bike"
   ]
  },
  {
   "cell_type": "code",
   "execution_count": 22,
   "metadata": {},
   "outputs": [
    {
     "name": "stderr",
     "output_type": "stream",
     "text": [
      "C:\\Users\\vyadav\\AppData\\Local\\Continuum\\anaconda3\\envs\\vy\\lib\\site-packages\\ipykernel_launcher.py:3: FutureWarning: Indexing with multiple keys (implicitly converted to a tuple of keys) will be deprecated, use a list instead.\n",
      "  This is separate from the ipykernel package so we can avoid doing imports until\n"
     ]
    },
    {
     "data": {
      "text/html": [
       "<div>\n",
       "<style scoped>\n",
       "    .dataframe tbody tr th:only-of-type {\n",
       "        vertical-align: middle;\n",
       "    }\n",
       "\n",
       "    .dataframe tbody tr th {\n",
       "        vertical-align: top;\n",
       "    }\n",
       "\n",
       "    .dataframe thead th {\n",
       "        text-align: right;\n",
       "    }\n",
       "</style>\n",
       "<table border=\"1\" class=\"dataframe\">\n",
       "  <thead>\n",
       "    <tr style=\"text-align: right;\">\n",
       "      <th></th>\n",
       "      <th>TripDist</th>\n",
       "      <th>WTTRDFIN</th>\n",
       "      <th>AvgDist</th>\n",
       "    </tr>\n",
       "    <tr>\n",
       "      <th>Day</th>\n",
       "      <th></th>\n",
       "      <th></th>\n",
       "      <th></th>\n",
       "    </tr>\n",
       "  </thead>\n",
       "  <tbody>\n",
       "    <tr>\n",
       "      <th>Saturday</th>\n",
       "      <td>4.152402e+07</td>\n",
       "      <td>4.482420e+07</td>\n",
       "      <td>0.926375</td>\n",
       "    </tr>\n",
       "    <tr>\n",
       "      <th>Sunday</th>\n",
       "      <td>1.784226e+06</td>\n",
       "      <td>1.227661e+07</td>\n",
       "      <td>0.145335</td>\n",
       "    </tr>\n",
       "    <tr>\n",
       "      <th>Weekday</th>\n",
       "      <td>5.315958e+07</td>\n",
       "      <td>8.403644e+07</td>\n",
       "      <td>0.632578</td>\n",
       "    </tr>\n",
       "  </tbody>\n",
       "</table>\n",
       "</div>"
      ],
      "text/plain": [
       "              TripDist      WTTRDFIN   AvgDist\n",
       "Day                                           \n",
       "Saturday  4.152402e+07  4.482420e+07  0.926375\n",
       "Sunday    1.784226e+06  1.227661e+07  0.145335\n",
       "Weekday   5.315958e+07  8.403644e+07  0.632578"
      ]
     },
     "execution_count": 22,
     "metadata": {},
     "output_type": "execute_result"
    }
   ],
   "source": [
    "# FL CBSA - Average Walk Trip Distance\n",
    "\n",
    "avg_dist_fl_walk = fl_cbsa_walk.groupby('Day')['TripDist','WTTRDFIN'].sum()\n",
    "avg_dist_fl_walk = pd.DataFrame(avg_dist_fl_walk)\n",
    "avg_dist_fl_walk\n",
    "\n",
    "avg_dist_fl_walk['AvgDist'] = avg_dist_fl_walk['TripDist']/avg_dist_fl_walk['WTTRDFIN']\n",
    "avg_dist_fl_walk"
   ]
  },
  {
   "cell_type": "code",
   "execution_count": 23,
   "metadata": {},
   "outputs": [
    {
     "name": "stderr",
     "output_type": "stream",
     "text": [
      "C:\\Users\\vyadav\\AppData\\Local\\Continuum\\anaconda3\\envs\\vy\\lib\\site-packages\\ipykernel_launcher.py:2: FutureWarning: Indexing with multiple keys (implicitly converted to a tuple of keys) will be deprecated, use a list instead.\n",
      "  \n"
     ]
    },
    {
     "data": {
      "text/html": [
       "<div>\n",
       "<style scoped>\n",
       "    .dataframe tbody tr th:only-of-type {\n",
       "        vertical-align: middle;\n",
       "    }\n",
       "\n",
       "    .dataframe tbody tr th {\n",
       "        vertical-align: top;\n",
       "    }\n",
       "\n",
       "    .dataframe thead th {\n",
       "        text-align: right;\n",
       "    }\n",
       "</style>\n",
       "<table border=\"1\" class=\"dataframe\">\n",
       "  <thead>\n",
       "    <tr style=\"text-align: right;\">\n",
       "      <th>TRIPPURP</th>\n",
       "      <th>HBO</th>\n",
       "      <th>HBSHOP</th>\n",
       "      <th>HBSOCREC</th>\n",
       "    </tr>\n",
       "    <tr>\n",
       "      <th>Day</th>\n",
       "      <th></th>\n",
       "      <th></th>\n",
       "      <th></th>\n",
       "    </tr>\n",
       "  </thead>\n",
       "  <tbody>\n",
       "    <tr>\n",
       "      <th>Weekday</th>\n",
       "      <td>0.565725</td>\n",
       "      <td>0.570647</td>\n",
       "      <td>1.071965</td>\n",
       "    </tr>\n",
       "  </tbody>\n",
       "</table>\n",
       "</div>"
      ],
      "text/plain": [
       "TRIPPURP       HBO    HBSHOP  HBSOCREC\n",
       "Day                                   \n",
       "Weekday   0.565725  0.570647  1.071965"
      ]
     },
     "execution_count": 23,
     "metadata": {},
     "output_type": "execute_result"
    }
   ],
   "source": [
    "# FL CBSA - Average Bike Trip Distance\n",
    "avg_dist_fl_bike = fl_cbsa_bike.groupby(['Day','TRIPPURP'])['TripDist','WTTRDFIN'].sum()\n",
    "avg_dist_fl_bike = pd.DataFrame(avg_dist_fl_bike)\n",
    "avg_dist_fl_bike.reset_index()\n",
    "\n",
    "avg_dist_fl_bike['AvgDist'] = avg_dist_fl_bike['TripDist']/avg_dist_fl_bike['WTTRDFIN']\n",
    "\n",
    "avg_dist_fl_bike.pivot_table(index = ['Day'], values = 'AvgDist', columns = 'TRIPPURP')\n"
   ]
  },
  {
   "cell_type": "code",
   "execution_count": 24,
   "metadata": {},
   "outputs": [
    {
     "name": "stderr",
     "output_type": "stream",
     "text": [
      "C:\\Users\\vyadav\\AppData\\Local\\Continuum\\anaconda3\\envs\\vy\\lib\\site-packages\\ipykernel_launcher.py:2: FutureWarning: Indexing with multiple keys (implicitly converted to a tuple of keys) will be deprecated, use a list instead.\n",
      "  \n"
     ]
    },
    {
     "data": {
      "text/html": [
       "<div>\n",
       "<style scoped>\n",
       "    .dataframe tbody tr th:only-of-type {\n",
       "        vertical-align: middle;\n",
       "    }\n",
       "\n",
       "    .dataframe tbody tr th {\n",
       "        vertical-align: top;\n",
       "    }\n",
       "\n",
       "    .dataframe thead th {\n",
       "        text-align: right;\n",
       "    }\n",
       "</style>\n",
       "<table border=\"1\" class=\"dataframe\">\n",
       "  <thead>\n",
       "    <tr style=\"text-align: right;\">\n",
       "      <th>TRIPPURP</th>\n",
       "      <th>HBO</th>\n",
       "      <th>HBSHOP</th>\n",
       "      <th>HBSOCREC</th>\n",
       "      <th>NHB</th>\n",
       "    </tr>\n",
       "    <tr>\n",
       "      <th>Day</th>\n",
       "      <th></th>\n",
       "      <th></th>\n",
       "      <th></th>\n",
       "      <th></th>\n",
       "    </tr>\n",
       "  </thead>\n",
       "  <tbody>\n",
       "    <tr>\n",
       "      <th>Saturday</th>\n",
       "      <td>1.109104</td>\n",
       "      <td>1.4795</td>\n",
       "      <td>0.636407</td>\n",
       "      <td>0.219000</td>\n",
       "    </tr>\n",
       "    <tr>\n",
       "      <th>Sunday</th>\n",
       "      <td>NaN</td>\n",
       "      <td>NaN</td>\n",
       "      <td>0.087854</td>\n",
       "      <td>0.295250</td>\n",
       "    </tr>\n",
       "    <tr>\n",
       "      <th>Weekday</th>\n",
       "      <td>1.108155</td>\n",
       "      <td>1.0270</td>\n",
       "      <td>0.300567</td>\n",
       "      <td>0.362885</td>\n",
       "    </tr>\n",
       "  </tbody>\n",
       "</table>\n",
       "</div>"
      ],
      "text/plain": [
       "TRIPPURP       HBO  HBSHOP  HBSOCREC       NHB\n",
       "Day                                           \n",
       "Saturday  1.109104  1.4795  0.636407  0.219000\n",
       "Sunday         NaN     NaN  0.087854  0.295250\n",
       "Weekday   1.108155  1.0270  0.300567  0.362885"
      ]
     },
     "execution_count": 24,
     "metadata": {},
     "output_type": "execute_result"
    }
   ],
   "source": [
    "# FL CBSA - Average Walk Trip Distance \n",
    "avg_dist_fl_walk = fl_cbsa_walk.groupby(['Day','TRIPPURP'])['TripDist','WTTRDFIN'].mean()\n",
    "avg_dist_fl_walk = pd.DataFrame(avg_dist_fl_walk)\n",
    "avg_dist_fl_walk.reset_index()\n",
    "\n",
    "avg_dist_fl_walk['AvgDist'] = avg_dist_fl_walk['TripDist']/avg_dist_fl_walk['WTTRDFIN']\n",
    "\n",
    "avg_dist_fl_walk.pivot_table(index = ['Day'], values = 'AvgDist', columns = 'TRIPPURP')"
   ]
  },
  {
   "cell_type": "code",
   "execution_count": null,
   "metadata": {},
   "outputs": [],
   "source": []
  }
 ],
 "metadata": {
  "kernelspec": {
   "display_name": "Python 3",
   "language": "python",
   "name": "python3"
  },
  "language_info": {
   "codemirror_mode": {
    "name": "ipython",
    "version": 3
   },
   "file_extension": ".py",
   "mimetype": "text/x-python",
   "name": "python",
   "nbconvert_exporter": "python",
   "pygments_lexer": "ipython3",
   "version": "3.7.1"
  }
 },
 "nbformat": 4,
 "nbformat_minor": 4
}
