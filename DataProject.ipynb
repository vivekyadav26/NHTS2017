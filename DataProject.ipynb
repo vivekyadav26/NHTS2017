{
 "cells": [
  {
   "cell_type": "code",
   "execution_count": 4,
   "metadata": {
    "scrolled": true
   },
   "outputs": [],
   "source": [
    "import pandas as pd\n",
    "import numpy as np\n",
    "#import matplotlib.pyplot as plt\n",
    "#import os\n"
   ]
  },
  {
   "cell_type": "code",
   "execution_count": 12,
   "metadata": {},
   "outputs": [],
   "source": [
    "df = pd.read_csv(\"trippub.csv\")\n",
    "df = df[['HOUSEID','PERSONID','HHSTATE','TRPTRANS','TRPMILES','WTTRDFIN','TRAVDAY']]\n",
    "\n",
    "day = { 1 : 'Sunday', 2: 'Weekday', 3: 'Weekday', 4: 'Weekday', 5: \"Weekday\", 6: \"Weekday\", 7: \"Saturday\"}\n",
    "day = pd.Series(day).to_frame('Day')\n",
    "day = day.reset_index().rename(columns = {'index' : 'TRAVDAY'})\n",
    "\n",
    "\n",
    "df = pd.merge(df, day, on = 'TRAVDAY')\n",
    "\n",
    "df['TripDist'] = df['TRPMILES'] * df['WTTRDFIN']\n",
    "\n",
    "national_bike = df.loc[(df[\"TRPTRANS\"] == 2),]\n",
    "national_walk = df.loc[df[\"TRPTRANS\"] == 1,]\n",
    "weights_bike = national_bike['WTTRDFIN'].sum()\n"
   ]
  },
  {
   "cell_type": "code",
   "execution_count": 13,
   "metadata": {},
   "outputs": [
    {
     "data": {
      "text/html": [
       "<div>\n",
       "<style scoped>\n",
       "    .dataframe tbody tr th:only-of-type {\n",
       "        vertical-align: middle;\n",
       "    }\n",
       "\n",
       "    .dataframe tbody tr th {\n",
       "        vertical-align: top;\n",
       "    }\n",
       "\n",
       "    .dataframe thead th {\n",
       "        text-align: right;\n",
       "    }\n",
       "</style>\n",
       "<table border=\"1\" class=\"dataframe\">\n",
       "  <thead>\n",
       "    <tr style=\"text-align: right;\">\n",
       "      <th></th>\n",
       "      <th>HOUSEID</th>\n",
       "      <th>PERSONID</th>\n",
       "      <th>HHSTATE</th>\n",
       "      <th>TRPTRANS</th>\n",
       "      <th>TRPMILES</th>\n",
       "      <th>WTTRDFIN</th>\n",
       "      <th>TRAVDAY</th>\n",
       "      <th>Day</th>\n",
       "      <th>TripDist</th>\n",
       "    </tr>\n",
       "  </thead>\n",
       "  <tbody>\n",
       "    <tr>\n",
       "      <th>0</th>\n",
       "      <td>30000007</td>\n",
       "      <td>1</td>\n",
       "      <td>NC</td>\n",
       "      <td>3</td>\n",
       "      <td>5.244</td>\n",
       "      <td>75441.905796</td>\n",
       "      <td>2</td>\n",
       "      <td>Weekday</td>\n",
       "      <td>3.956174e+05</td>\n",
       "    </tr>\n",
       "    <tr>\n",
       "      <th>1</th>\n",
       "      <td>30000007</td>\n",
       "      <td>1</td>\n",
       "      <td>NC</td>\n",
       "      <td>3</td>\n",
       "      <td>5.149</td>\n",
       "      <td>75441.905796</td>\n",
       "      <td>2</td>\n",
       "      <td>Weekday</td>\n",
       "      <td>3.884504e+05</td>\n",
       "    </tr>\n",
       "    <tr>\n",
       "      <th>2</th>\n",
       "      <td>30000007</td>\n",
       "      <td>2</td>\n",
       "      <td>NC</td>\n",
       "      <td>6</td>\n",
       "      <td>84.004</td>\n",
       "      <td>71932.645806</td>\n",
       "      <td>2</td>\n",
       "      <td>Weekday</td>\n",
       "      <td>6.042630e+06</td>\n",
       "    </tr>\n",
       "    <tr>\n",
       "      <th>3</th>\n",
       "      <td>30000007</td>\n",
       "      <td>2</td>\n",
       "      <td>NC</td>\n",
       "      <td>6</td>\n",
       "      <td>81.628</td>\n",
       "      <td>71932.645806</td>\n",
       "      <td>2</td>\n",
       "      <td>Weekday</td>\n",
       "      <td>5.871718e+06</td>\n",
       "    </tr>\n",
       "    <tr>\n",
       "      <th>4</th>\n",
       "      <td>30000007</td>\n",
       "      <td>3</td>\n",
       "      <td>NC</td>\n",
       "      <td>3</td>\n",
       "      <td>2.250</td>\n",
       "      <td>80122.686739</td>\n",
       "      <td>2</td>\n",
       "      <td>Weekday</td>\n",
       "      <td>1.802760e+05</td>\n",
       "    </tr>\n",
       "  </tbody>\n",
       "</table>\n",
       "</div>"
      ],
      "text/plain": [
       "    HOUSEID  PERSONID HHSTATE  TRPTRANS  TRPMILES      WTTRDFIN  TRAVDAY  \\\n",
       "0  30000007         1      NC         3     5.244  75441.905796        2   \n",
       "1  30000007         1      NC         3     5.149  75441.905796        2   \n",
       "2  30000007         2      NC         6    84.004  71932.645806        2   \n",
       "3  30000007         2      NC         6    81.628  71932.645806        2   \n",
       "4  30000007         3      NC         3     2.250  80122.686739        2   \n",
       "\n",
       "       Day      TripDist  \n",
       "0  Weekday  3.956174e+05  \n",
       "1  Weekday  3.884504e+05  \n",
       "2  Weekday  6.042630e+06  \n",
       "3  Weekday  5.871718e+06  \n",
       "4  Weekday  1.802760e+05  "
      ]
     },
     "execution_count": 13,
     "metadata": {},
     "output_type": "execute_result"
    }
   ],
   "source": [
    "df.head()"
   ]
  },
  {
   "cell_type": "code",
   "execution_count": 14,
   "metadata": {},
   "outputs": [
    {
     "data": {
      "text/html": [
       "<div>\n",
       "<style scoped>\n",
       "    .dataframe tbody tr th:only-of-type {\n",
       "        vertical-align: middle;\n",
       "    }\n",
       "\n",
       "    .dataframe tbody tr th {\n",
       "        vertical-align: top;\n",
       "    }\n",
       "\n",
       "    .dataframe thead th {\n",
       "        text-align: right;\n",
       "    }\n",
       "</style>\n",
       "<table border=\"1\" class=\"dataframe\">\n",
       "  <thead>\n",
       "    <tr style=\"text-align: right;\">\n",
       "      <th></th>\n",
       "      <th>TRPMILES</th>\n",
       "    </tr>\n",
       "    <tr>\n",
       "      <th>Day</th>\n",
       "      <th></th>\n",
       "    </tr>\n",
       "  </thead>\n",
       "  <tbody>\n",
       "    <tr>\n",
       "      <th>Saturday</th>\n",
       "      <td>3.549833</td>\n",
       "    </tr>\n",
       "    <tr>\n",
       "      <th>Sunday</th>\n",
       "      <td>3.030389</td>\n",
       "    </tr>\n",
       "    <tr>\n",
       "      <th>Weekday</th>\n",
       "      <td>2.545008</td>\n",
       "    </tr>\n",
       "  </tbody>\n",
       "</table>\n",
       "</div>"
      ],
      "text/plain": [
       "          TRPMILES\n",
       "Day               \n",
       "Saturday  3.549833\n",
       "Sunday    3.030389\n",
       "Weekday   2.545008"
      ]
     },
     "execution_count": 14,
     "metadata": {},
     "output_type": "execute_result"
    }
   ],
   "source": [
    "# National Average Bike Trip Distance \n",
    "\n",
    "avg_dist_nat_bike = national_bike.groupby('Day')['TRPMILES'].mean()\n",
    "avg_dist_nat_bike = pd.DataFrame(avg_dist_nat_bike)\n",
    "avg_dist_nat_bike"
   ]
  },
  {
   "cell_type": "code",
   "execution_count": 15,
   "metadata": {},
   "outputs": [
    {
     "data": {
      "text/html": [
       "<div>\n",
       "<style scoped>\n",
       "    .dataframe tbody tr th:only-of-type {\n",
       "        vertical-align: middle;\n",
       "    }\n",
       "\n",
       "    .dataframe tbody tr th {\n",
       "        vertical-align: top;\n",
       "    }\n",
       "\n",
       "    .dataframe thead th {\n",
       "        text-align: right;\n",
       "    }\n",
       "</style>\n",
       "<table border=\"1\" class=\"dataframe\">\n",
       "  <thead>\n",
       "    <tr style=\"text-align: right;\">\n",
       "      <th></th>\n",
       "      <th>TRPMILES</th>\n",
       "    </tr>\n",
       "    <tr>\n",
       "      <th>Day</th>\n",
       "      <th></th>\n",
       "    </tr>\n",
       "  </thead>\n",
       "  <tbody>\n",
       "    <tr>\n",
       "      <th>Saturday</th>\n",
       "      <td>0.631021</td>\n",
       "    </tr>\n",
       "    <tr>\n",
       "      <th>Sunday</th>\n",
       "      <td>0.734646</td>\n",
       "    </tr>\n",
       "    <tr>\n",
       "      <th>Weekday</th>\n",
       "      <td>0.986144</td>\n",
       "    </tr>\n",
       "  </tbody>\n",
       "</table>\n",
       "</div>"
      ],
      "text/plain": [
       "          TRPMILES\n",
       "Day               \n",
       "Saturday  0.631021\n",
       "Sunday    0.734646\n",
       "Weekday   0.986144"
      ]
     },
     "execution_count": 15,
     "metadata": {},
     "output_type": "execute_result"
    }
   ],
   "source": [
    "# National Average Walk Trip Distance \n",
    "avg_dist_nat_walk = national_walk.groupby('Day')['TRPMILES'].mean()\n",
    "avg_dist_nat_walk = pd.DataFrame(avg_dist_nat_walk)\n",
    "avg_dist_nat_walk"
   ]
  },
  {
   "cell_type": "code",
   "execution_count": null,
   "metadata": {},
   "outputs": [],
   "source": [
    "# FLORIDA"
   ]
  },
  {
   "cell_type": "code",
   "execution_count": 16,
   "metadata": {},
   "outputs": [],
   "source": [
    "fl_bike = df.loc[(df[\"TRPTRANS\"] == 2) & (df[\"HHSTATE\"] == \"FL\"),]\n",
    "fl_walk = df.loc[(df[\"TRPTRANS\"] == 1) & (df[\"HHSTATE\"] == \"FL\"),]"
   ]
  },
  {
   "cell_type": "code",
   "execution_count": 17,
   "metadata": {},
   "outputs": [
    {
     "data": {
      "text/html": [
       "<div>\n",
       "<style scoped>\n",
       "    .dataframe tbody tr th:only-of-type {\n",
       "        vertical-align: middle;\n",
       "    }\n",
       "\n",
       "    .dataframe tbody tr th {\n",
       "        vertical-align: top;\n",
       "    }\n",
       "\n",
       "    .dataframe thead th {\n",
       "        text-align: right;\n",
       "    }\n",
       "</style>\n",
       "<table border=\"1\" class=\"dataframe\">\n",
       "  <thead>\n",
       "    <tr style=\"text-align: right;\">\n",
       "      <th></th>\n",
       "      <th>TRPMILES</th>\n",
       "    </tr>\n",
       "    <tr>\n",
       "      <th>Day</th>\n",
       "      <th></th>\n",
       "    </tr>\n",
       "  </thead>\n",
       "  <tbody>\n",
       "    <tr>\n",
       "      <th>Saturday</th>\n",
       "      <td>1.832071</td>\n",
       "    </tr>\n",
       "    <tr>\n",
       "      <th>Sunday</th>\n",
       "      <td>3.016778</td>\n",
       "    </tr>\n",
       "    <tr>\n",
       "      <th>Weekday</th>\n",
       "      <td>2.490429</td>\n",
       "    </tr>\n",
       "  </tbody>\n",
       "</table>\n",
       "</div>"
      ],
      "text/plain": [
       "          TRPMILES\n",
       "Day               \n",
       "Saturday  1.832071\n",
       "Sunday    3.016778\n",
       "Weekday   2.490429"
      ]
     },
     "execution_count": 17,
     "metadata": {},
     "output_type": "execute_result"
    }
   ],
   "source": [
    "# Average Bike Trip Distance for Florida\n",
    "avg_dist_fl_bike = fl_bike.groupby('Day')['TRPMILES'].mean()\n",
    "avg_dist_fl_bike = pd.DataFrame(avg_dist_fl_bike)\n",
    "avg_dist_fl_bike"
   ]
  },
  {
   "cell_type": "code",
   "execution_count": 18,
   "metadata": {},
   "outputs": [
    {
     "data": {
      "text/html": [
       "<div>\n",
       "<style scoped>\n",
       "    .dataframe tbody tr th:only-of-type {\n",
       "        vertical-align: middle;\n",
       "    }\n",
       "\n",
       "    .dataframe tbody tr th {\n",
       "        vertical-align: top;\n",
       "    }\n",
       "\n",
       "    .dataframe thead th {\n",
       "        text-align: right;\n",
       "    }\n",
       "</style>\n",
       "<table border=\"1\" class=\"dataframe\">\n",
       "  <thead>\n",
       "    <tr style=\"text-align: right;\">\n",
       "      <th></th>\n",
       "      <th>TRPMILES</th>\n",
       "    </tr>\n",
       "    <tr>\n",
       "      <th>Day</th>\n",
       "      <th></th>\n",
       "    </tr>\n",
       "  </thead>\n",
       "  <tbody>\n",
       "    <tr>\n",
       "      <th>Saturday</th>\n",
       "      <td>0.571794</td>\n",
       "    </tr>\n",
       "    <tr>\n",
       "      <th>Sunday</th>\n",
       "      <td>0.469342</td>\n",
       "    </tr>\n",
       "    <tr>\n",
       "      <th>Weekday</th>\n",
       "      <td>1.056537</td>\n",
       "    </tr>\n",
       "  </tbody>\n",
       "</table>\n",
       "</div>"
      ],
      "text/plain": [
       "          TRPMILES\n",
       "Day               \n",
       "Saturday  0.571794\n",
       "Sunday    0.469342\n",
       "Weekday   1.056537"
      ]
     },
     "execution_count": 18,
     "metadata": {},
     "output_type": "execute_result"
    }
   ],
   "source": [
    "#Average Walk Trip Distance for Florida\n",
    "\n",
    "avg_dist_fl_walk = fl_walk.groupby('Day')['TRPMILES'].mean()\n",
    "avg_dist_fl_walk = pd.DataFrame(avg_dist_fl_walk)\n",
    "avg_dist_fl_walk"
   ]
  }
 ],
 "metadata": {
  "kernelspec": {
   "display_name": "Python 3",
   "language": "python",
   "name": "python3"
  },
  "language_info": {
   "codemirror_mode": {
    "name": "ipython",
    "version": 3
   },
   "file_extension": ".py",
   "mimetype": "text/x-python",
   "name": "python",
   "nbconvert_exporter": "python",
   "pygments_lexer": "ipython3",
   "version": "3.7.1"
  }
 },
 "nbformat": 4,
 "nbformat_minor": 4
}
